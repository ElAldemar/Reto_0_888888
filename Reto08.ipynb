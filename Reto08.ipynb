{
  "nbformat": 4,
  "nbformat_minor": 0,
  "metadata": {
    "colab": {
      "provenance": []
    },
    "kernelspec": {
      "name": "python3",
      "display_name": "Python 3"
    },
    "language_info": {
      "name": "python"
    }
  },
  "cells": [
    {
      "cell_type": "markdown",
      "source": [
        "# Reto 08\n",
        "1. De los retos anteriores selecione 3 funciones y escribalas en forma de lambdas."
      ],
      "metadata": {
        "id": "Dwdbcrn1qJC9"
      }
    },
    {
      "cell_type": "code",
      "execution_count": null,
      "metadata": {
        "id": "0C_IK10EpjCH"
      },
      "outputs": [],
      "source": [
        "if __name__ == \"__main__\":\n",
        "  a = int(input(\"Ingrese numero a: \"))\n",
        "  b = int(input(\"Ingrese numero b: \"))\n",
        "  suma = (lambda x,y: (x+y)) (a,b)\n",
        "  print(\"La suma de \" + str(a) + \" y \" + str(b) + \" es \" + str(suma))"
      ]
    },
    {
      "cell_type": "code",
      "source": [
        "if __name__ == \"__main__\":\n",
        "  num = int(input(\"Ingrese numero: \"))\n",
        "  fact:int=1\n",
        "\n",
        "  for i in range(1,num+1):\n",
        "   fact= (lambda y: ((i*y)))(fact)\n",
        "\n",
        "   print(\"El factorial de \" + str(num) + \" es \" + str(fact))"
      ],
      "metadata": {
        "colab": {
          "base_uri": "https://localhost:8080/"
        },
        "collapsed": true,
        "id": "iydAronsrOFJ",
        "outputId": "a7c7da9a-b99f-4478-ed7a-472ec5abfe51"
      },
      "execution_count": 1,
      "outputs": [
        {
          "output_type": "stream",
          "name": "stdout",
          "text": [
            "Ingrese numero: 5\n",
            "El factorial de 5 es 1\n",
            "El factorial de 5 es 2\n",
            "El factorial de 5 es 6\n",
            "El factorial de 5 es 24\n",
            "El factorial de 5 es 120\n"
          ]
        }
      ]
    },
    {
      "cell_type": "code",
      "source": [
        "if __name__ == \"__main__\":\n",
        "    Capita = float(input(\"Ingrese el monto inicial del prestamo: \"))\n",
        "    int_anual = float(input(\"Ingrese la tasa de interes anual sin el simbolo porcentaje: \"))\n",
        "    meses = int(input(\"Ingrese el número de meses que se llevará el prestamo: \"))\n",
        "    #funcion para calcular el interes compuesto\n",
        "    valorFinal = (lambda p, i, n: p * (1 +(i/100/12)) **n)(Capita, int_anual, meses)\n",
        "    # el interes i se convierte a interés a mensual. Con la formula de interes\n",
        "    # compuesto se calcula a que valor llegara el prestamo tras los n meses\n",
        "    print(\"El valor final del préstamo después de \", meses ,\" meses es: \", valorFinal)"
      ],
      "metadata": {
        "id": "IVUyYhQ8st68"
      },
      "execution_count": null,
      "outputs": []
    },
    {
      "cell_type": "markdown",
      "source": [
        "2. De los retos anteriores selecione 3 funciones y escribalas con argumentos no definidos (*args)."
      ],
      "metadata": {
        "id": "rZIPWrP3sX2T"
      }
    },
    {
      "cell_type": "code",
      "source": [
        "def promedio(*args) -> float:\n",
        "  total = (n1 + n2 + n3 + n4 + n5)/5 #Formula promedio de 5 numeros\n",
        "  return total\n",
        "\n",
        "if __name__ == \"__main__\":\n",
        "  n1 = float(input(\"Ingresa el primer numero: \")) #Ingreso de los 5 numeros por consola\n",
        "  n2 = float(input(\"Ingresa el segundo numero: \"))\n",
        "  n3 = float(input(\"Ingresa el tercer numero: \"))\n",
        "  n4 = float(input(\"Ingresa el cuarto numero: \"))\n",
        "  n5 = float(input(\"Ingresa el quinto numero: \"))\n",
        "\n",
        "  print(\"El promedio de los 5 numeros es de: \" + str(promedio(n1, n2, n3, n4, n5))) #Impresión del resultado"
      ],
      "metadata": {
        "id": "-bbvoodCurmT"
      },
      "execution_count": null,
      "outputs": []
    },
    {
      "cell_type": "code",
      "source": [
        "def inicio_potencia (*args):\n",
        "mayor = max (n1, n2, n3, n4, n5) #Se busca el numero mayor entre una colección de 5 numeros\n",
        "menor = min (n1, n2, n3, n4, n5) #Se busca el numero menor entre una colección de 5 numeros\n",
        "total_potencia = mayor ** menor #Se utilizan esos dos valores para operar el mas grande elevado al mas pequeño\n",
        "return total_potencia\n",
        "\n",
        "if __name__ == \"__main__\":\n",
        "n1 = float(input(\"Ingresa el primer numero: \")) #Ingreso d elos 5 numeros por consola\n",
        "n2 = float(input(\"Ingresa el segundo numero: \"))\n",
        "n3 = float(input(\"Ingresa el tercer numero: \"))\n",
        "n4 = float(input(\"Ingresa el cuarto numero: \"))\n",
        "n5 = float(input(\"Ingresa el quinto numero: \"))\n",
        "\n",
        "print(\"La potencia del numero mayor elevado al numero menor es: \" + str(inicio_potencia(n1, n2, n3, n4, n5))) #Impresión del resultado"
      ],
      "metadata": {
        "id": "9KfLWWCbwm6U"
      },
      "execution_count": null,
      "outputs": []
    },
    {
      "cell_type": "code",
      "source": [
        "def multiplos(*args) -> None: #Definimos la función\n",
        "    if b != 0: #Mientras el segundo numero a evaluar no sea 0, procedemos a ejecutar la logica de comparación\n",
        "        if a % b == 0: #El modulo del primero entre el segundo igual a cero permite saber si son multiplos\n",
        "            print(\"El primer numero es multiplo del segundo\") #impresión del resultado\n",
        "        else: #En caso de que el modulo no sea cero\n",
        "            print(\"El primer numero no es multiplo del segundo\") #impresión de que el promero no es multiplodel segundo\n",
        "    else:\n",
        "        print(\"El segundo numero no puede ser cero\") #Advertencia de que no se puee ejecutar\n",
        "\n",
        "if __name__ == \"__main__\":\n",
        "    a = int(input(\"Ingresa el primer numero: \")) #Ingreso de los numeros por consola\n",
        "    b = int(input(\"Ingresa el primer numero: \"))\n",
        "\n",
        "    print(multiplos(a,b)) #Impresión del resultado"
      ],
      "metadata": {
        "id": "-V6XcGFzwr-2"
      },
      "execution_count": null,
      "outputs": []
    },
    {
      "cell_type": "markdown",
      "source": [
        "3. Escriba una función recursiva para calcular la operación de la potencia."
      ],
      "metadata": {
        "id": "zHjvnw0AxAdh"
      }
    },
    {
      "cell_type": "code",
      "source": [
        "def potencia_recursiva(base : int, exp : int): #Inicialización de la función\n",
        "    if exp == 0: #Cuando el exponente sea cero, retornara 1\n",
        "        return 1\n",
        "    else: #En caso contrario proecedar a seguir con la función recursiva\n",
        "        return base * potencia_recursiva(base, exp - 1)\n",
        "\n",
        "if __name__ == \"__main__\":\n",
        "    base = int(input(\"Ingresa la base de la potencia: \")) #ingreso de la base de la potencia por consola\n",
        "    exp = int(input(\"Ingresa el exponente: \")) #ingreso del exponente por consola\n",
        "    potencia = potencia_recursiva(base, exp) #llamamos a la función\n",
        "    print(str(base) + \" elevado a \" + str(exp) + \" es \" + str(potencia)) #impresión del resultado"
      ],
      "metadata": {
        "id": "kpzsKElBxCmt"
      },
      "execution_count": null,
      "outputs": []
    },
    {
      "cell_type": "markdown",
      "source": [
        "4. Utilice la siguiente plantilla de code para contar el tiempo:\n",
        "\n",
        "import time\n",
        "\n",
        "start_time = time.time()\n",
        "###instrucciones sobre las cuales se quiere medir tiempo de ejecución\n",
        "end_time = time.time()\n",
        "\n",
        "timer = end_time - start_time\n",
        "print(timer)"
      ],
      "metadata": {
        "id": "8ohf3CAMxpXW"
      }
    },
    {
      "cell_type": "markdown",
      "source": [
        "Realice pruebas para calcular fibonacci con iteración o con recursión. Determine desde que número de la serie la diferencia de tiempo se vuelve significativa."
      ],
      "metadata": {
        "id": "0qujDlXCysn0"
      }
    },
    {
      "cell_type": "code",
      "source": [
        "import time\n",
        "\n",
        "# Función de Fibonacci usando recursión\n",
        "def fibo_recursivo(n):\n",
        "    if n <= 1:\n",
        "        return n\n",
        "    else:\n",
        "        return fibo_recursivo(n-1) + fibo_recursivo(n-2)\n",
        "\n",
        "# Función de Fibonacci usando iteración\n",
        "def fibo_iterativo(n):\n",
        "    a, b = 0, 1\n",
        "    for _ in range(n):\n",
        "        a, b = b, a + b\n",
        "    return a\n",
        "\n",
        "# Medir el tiempo de ejecución para la versión recursiva\n",
        "def medir_tiempos():\n",
        "    for n in range(20, 51, 5):  # Probar para números de 20 a 50\n",
        "        inicio_tiempo = time.time()\n",
        "        fibo_recursivo(n)\n",
        "        fin_tiempo = time.time()\n",
        "        tiempo_recursivo = fin_tiempo - inicio_tiempo\n",
        "\n",
        "        inicio_tiempo = time.time()\n",
        "        fibo_iterativo(n)\n",
        "        fin_tiempo = time.time()\n",
        "        tiempo_iterativo = fin_tiempo - inicio_tiempo\n",
        "\n",
        "        print(\"n =\", n, \"\\n Recursivo:\", tiempo_recursivo, \"segundos,\", \"\\n Iterativo:\", tiempo_iterativo, \"segundos\")  # Imprimir el resultado\n",
        "\n",
        "def diferencia_significativa(tiempo_recursivo,tiempo_iterativo, n):\n",
        "  if tiempo_recursivo > tiempo_iterativo:\n",
        "            print(\"   Diferencia significativa en n =\", n, \"\\n\")  # Marca el n que está evaluando\n",
        "\n",
        "\n",
        "if __name__ == \"__main__\":\n",
        "    medir_tiempos()"
      ],
      "metadata": {
        "id": "gCzoCrwUx7GY"
      },
      "execution_count": null,
      "outputs": []
    }
  ]
}